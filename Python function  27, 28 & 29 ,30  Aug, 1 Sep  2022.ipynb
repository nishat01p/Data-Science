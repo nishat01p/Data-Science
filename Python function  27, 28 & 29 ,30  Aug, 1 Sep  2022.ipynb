{
 "cells": [
  {
   "cell_type": "code",
   "execution_count": 3,
   "id": "f3dd4f48",
   "metadata": {
    "scrolled": true
   },
   "outputs": [
    {
     "name": "stdout",
     "output_type": "stream",
     "text": [
      "enter annual income: 700000\n",
      "income tax on annual income is =  32500.0\n"
     ]
    }
   ],
   "source": [
    "annual_income=int(input(\"enter annual income: \"))\n",
    "\n",
    "if annual_income <=250000:\n",
    "    tax=0\n",
    "    print(\"income tax on annual income is = \", tax)\n",
    "   \n",
    "elif annual_income>=250000 and annual_income<=500000:\n",
    "    tax=(annual_income-250000)*0.05\n",
    "    print(\"income tax on annual income is = \",tax)\n",
    "   \n",
    "\n",
    "elif annual_income>=500000 and annual_income<=750000:\n",
    "    tax=(annual_income-500000)*0.1+12500\n",
    "    print(\"income tax on annual income is = \", tax)\n",
    "   \n",
    "elif annual_income>=750000 and annual_income<=1000000:\n",
    "    tax=(annual_income-750000)*0.3+37500\n",
    "    print(\"income tax on annual income is = \", tax)"
   ]
  },
  {
   "cell_type": "code",
   "execution_count": 1,
   "id": "078d36c5",
   "metadata": {},
   "outputs": [],
   "source": [
    "# function 27 Aug 2022"
   ]
  },
  {
   "cell_type": "code",
   "execution_count": 8,
   "id": "e698cd23",
   "metadata": {},
   "outputs": [],
   "source": [
    "def add(x,y):\n",
    "    z=x+y\n",
    "    print(z)"
   ]
  },
  {
   "cell_type": "code",
   "execution_count": 9,
   "id": "ede2e8a4",
   "metadata": {},
   "outputs": [
    {
     "name": "stdout",
     "output_type": "stream",
     "text": [
      "5\n"
     ]
    }
   ],
   "source": [
    "add(2,3)"
   ]
  },
  {
   "cell_type": "code",
   "execution_count": 7,
   "id": "5da73fbe",
   "metadata": {
    "scrolled": true
   },
   "outputs": [
    {
     "data": {
      "text/plain": [
       "3.141592653589793"
      ]
     },
     "execution_count": 7,
     "metadata": {},
     "output_type": "execute_result"
    }
   ],
   "source": [
    "import math\n",
    "math.pi"
   ]
  },
  {
   "cell_type": "code",
   "execution_count": 9,
   "id": "d2e35f2d",
   "metadata": {},
   "outputs": [
    {
     "data": {
      "text/plain": [
       "'\\n1. No arguments and no return values\\n2. With arguments and no return values\\n3. With arguments and with return values\\n4. No arguments and with return values\\n'"
      ]
     },
     "execution_count": 9,
     "metadata": {},
     "output_type": "execute_result"
    }
   ],
   "source": [
    "#1. No arguments and no return values\n",
    "#2. With arguments and no return values\n",
    "#3. With arguments and with return values\n",
    "#4. No arguments and with return values"
   ]
  },
  {
   "cell_type": "code",
   "execution_count": 10,
   "id": "eee4bccf",
   "metadata": {},
   "outputs": [],
   "source": [
    "#1. No arguments and no return values\n",
    "def add():\n",
    "    a=10\n",
    "    b=20\n",
    "    c=a+b\n",
    "    print(c)"
   ]
  },
  {
   "cell_type": "code",
   "execution_count": 13,
   "id": "57bfae47",
   "metadata": {},
   "outputs": [
    {
     "name": "stdout",
     "output_type": "stream",
     "text": [
      "30\n",
      "None\n"
     ]
    }
   ],
   "source": [
    "z=add()\n",
    "print(z)"
   ]
  },
  {
   "cell_type": "code",
   "execution_count": 35,
   "id": "7f3235be",
   "metadata": {},
   "outputs": [],
   "source": [
    "#2.1 With arguments and no return values\n",
    "def add(a,b):\n",
    "    c=a+b\n",
    "    print(c)"
   ]
  },
  {
   "cell_type": "code",
   "execution_count": 38,
   "id": "ae97955e",
   "metadata": {},
   "outputs": [
    {
     "name": "stdout",
     "output_type": "stream",
     "text": [
      "220\n"
     ]
    }
   ],
   "source": [
    "add(40,180)"
   ]
  },
  {
   "cell_type": "code",
   "execution_count": 19,
   "id": "7062a9f1",
   "metadata": {},
   "outputs": [],
   "source": [
    "#2.2 With arguments and no return values\n",
    "def test(filename):\n",
    "    if filename.endswith('pdf'):\n",
    "        return \"pdf file\"\n",
    "    else:\n",
    "        return \"other file\""
   ]
  },
  {
   "cell_type": "code",
   "execution_count": 20,
   "id": "9d76d65d",
   "metadata": {},
   "outputs": [
    {
     "data": {
      "text/plain": [
       "'pdf file'"
      ]
     },
     "execution_count": 20,
     "metadata": {},
     "output_type": "execute_result"
    }
   ],
   "source": [
    "test(\"abc.pdf\")"
   ]
  },
  {
   "cell_type": "code",
   "execution_count": 43,
   "id": "a5a3f751",
   "metadata": {},
   "outputs": [
    {
     "name": "stdout",
     "output_type": "stream",
     "text": [
      "Enter file name: abc.pdf\n"
     ]
    },
    {
     "data": {
      "text/plain": [
       "'pdf file'"
      ]
     },
     "execution_count": 43,
     "metadata": {},
     "output_type": "execute_result"
    }
   ],
   "source": [
    "filename=input(\"Enter file name: \")\n",
    "test(filename)"
   ]
  },
  {
   "cell_type": "code",
   "execution_count": 45,
   "id": "a80a7c42",
   "metadata": {},
   "outputs": [
    {
     "data": {
      "text/plain": [
       "'pdf file'"
      ]
     },
     "execution_count": 45,
     "metadata": {},
     "output_type": "execute_result"
    }
   ],
   "source": [
    "test(\"nsp.pdf\")"
   ]
  },
  {
   "cell_type": "code",
   "execution_count": 14,
   "id": "a5d39764",
   "metadata": {},
   "outputs": [],
   "source": [
    "#3. With arguments and with return values\n",
    "# it is the most used type of function\n",
    "def add(a,b):\n",
    "    c=a+b\n",
    "    return c"
   ]
  },
  {
   "cell_type": "code",
   "execution_count": 15,
   "id": "3d7ebd34",
   "metadata": {},
   "outputs": [
    {
     "data": {
      "text/plain": [
       "13"
      ]
     },
     "execution_count": 15,
     "metadata": {},
     "output_type": "execute_result"
    }
   ],
   "source": [
    "add(4,9)"
   ]
  },
  {
   "cell_type": "code",
   "execution_count": 17,
   "id": "36812a66",
   "metadata": {},
   "outputs": [
    {
     "data": {
      "text/plain": [
       "17"
      ]
     },
     "execution_count": 17,
     "metadata": {},
     "output_type": "execute_result"
    }
   ],
   "source": [
    "add(8,9)\n",
    "#print(z)"
   ]
  },
  {
   "cell_type": "code",
   "execution_count": 26,
   "id": "0656c5e1",
   "metadata": {},
   "outputs": [],
   "source": [
    "#4. No arguments and with return values\n",
    "def add():\n",
    "    a=20\n",
    "    b=30\n",
    "    c=a+b\n",
    "    return c\n"
   ]
  },
  {
   "cell_type": "code",
   "execution_count": 27,
   "id": "97925f33",
   "metadata": {},
   "outputs": [],
   "source": [
    "result=add()"
   ]
  },
  {
   "cell_type": "code",
   "execution_count": 28,
   "id": "46c00046",
   "metadata": {},
   "outputs": [
    {
     "data": {
      "text/plain": [
       "50"
      ]
     },
     "execution_count": 28,
     "metadata": {},
     "output_type": "execute_result"
    }
   ],
   "source": [
    "result"
   ]
  },
  {
   "cell_type": "code",
   "execution_count": null,
   "id": "b442086f",
   "metadata": {},
   "outputs": [],
   "source": [
    "#  - Types of arguments\n",
    "# 1. Positional arguments\n",
    "# 2. Default arguments\n",
    "# 3. Variable length arguments (*args)\n",
    "# 4. Keyword arguments ()\n",
    "# 5. Variable length keyword arguments (**kwargs)"
   ]
  },
  {
   "cell_type": "code",
   "execution_count": null,
   "id": "a796c54f",
   "metadata": {},
   "outputs": [],
   "source": [
    "# 1. Positional arguments\n",
    "# sequence and number of formal and actual arguments should be same"
   ]
  },
  {
   "cell_type": "code",
   "execution_count": 52,
   "id": "89ed9b48",
   "metadata": {},
   "outputs": [],
   "source": [
    "def persoanl_details(emp_id, emp_name, emp_city, emp_sal): #formal arguments\n",
    "    print(\"Emp Id: \",emp_id)\n",
    "    print(\"Emp Name: \",emp_name)\n",
    "    print(\"Emp City: \",emp_city)\n",
    "    print(\"Emp Salary: \",emp_sal)   "
   ]
  },
  {
   "cell_type": "code",
   "execution_count": 53,
   "id": "8267a367",
   "metadata": {},
   "outputs": [
    {
     "name": "stdout",
     "output_type": "stream",
     "text": [
      "Emp Id:  101\n",
      "Emp Name:  Nishat\n",
      "Emp City:  Pune\n",
      "Emp Salary:  150000\n"
     ]
    }
   ],
   "source": [
    "persoanl_details(101,\"Nishat\",\"Pune\",150000) # actual arguments"
   ]
  },
  {
   "cell_type": "code",
   "execution_count": null,
   "id": "84a8769f",
   "metadata": {},
   "outputs": [],
   "source": [
    "# 2. Default arguments\n",
    "# If actual arguments are not provided then to avoid error a default argument is passed in formal argument\n",
    "# non-default argument should follow default argument"
   ]
  },
  {
   "cell_type": "code",
   "execution_count": 60,
   "id": "f594a7de",
   "metadata": {},
   "outputs": [],
   "source": [
    "def persoanl_details(emp_id, emp_name, emp_city, emp_sal, emp_aadhar): #formal arguments\n",
    "    print(\"Emp Id: \",emp_id)\n",
    "    print(\"Emp Name: \",emp_name)\n",
    "    print(\"Emp City: \",emp_city)\n",
    "    print(\"Emp Salary: \",emp_sal)   \n",
    "    print(\"Emp Aadhar: \",emp_aadhar)  "
   ]
  },
  {
   "cell_type": "code",
   "execution_count": 61,
   "id": "4c5795fc",
   "metadata": {},
   "outputs": [
    {
     "name": "stdout",
     "output_type": "stream",
     "text": [
      "Emp Id:  102\n",
      "Emp Name:  Nilofar\n",
      "Emp City:  Paris\n",
      "Emp Salary:  200000\n",
      "Emp Aadhar:  12345678987\n"
     ]
    }
   ],
   "source": [
    "persoanl_details(102,\"Nilofar\",\"Paris\",200000,12345678987)"
   ]
  },
  {
   "cell_type": "code",
   "execution_count": 62,
   "id": "0e128dbb",
   "metadata": {},
   "outputs": [
    {
     "ename": "TypeError",
     "evalue": "persoanl_details() missing 1 required positional argument: 'emp_aadhar'",
     "output_type": "error",
     "traceback": [
      "\u001b[1;31m---------------------------------------------------------------------------\u001b[0m",
      "\u001b[1;31mTypeError\u001b[0m                                 Traceback (most recent call last)",
      "Input \u001b[1;32mIn [62]\u001b[0m, in \u001b[0;36m<cell line: 1>\u001b[1;34m()\u001b[0m\n\u001b[1;32m----> 1\u001b[0m \u001b[43mpersoanl_details\u001b[49m\u001b[43m(\u001b[49m\u001b[38;5;241;43m103\u001b[39;49m\u001b[43m,\u001b[49m\u001b[38;5;124;43m\"\u001b[39;49m\u001b[38;5;124;43mZishan\u001b[39;49m\u001b[38;5;124;43m\"\u001b[39;49m\u001b[43m,\u001b[49m\u001b[38;5;124;43m\"\u001b[39;49m\u001b[38;5;124;43mCanada\u001b[39;49m\u001b[38;5;124;43m\"\u001b[39;49m\u001b[43m,\u001b[49m\u001b[38;5;241;43m500000\u001b[39;49m\u001b[43m)\u001b[49m\n",
      "\u001b[1;31mTypeError\u001b[0m: persoanl_details() missing 1 required positional argument: 'emp_aadhar'"
     ]
    }
   ],
   "source": [
    "persoanl_details(103,\"Zishan\",\"Canada\",500000)"
   ]
  },
  {
   "cell_type": "code",
   "execution_count": 67,
   "id": "293bb7ec",
   "metadata": {},
   "outputs": [],
   "source": [
    "def persoanl_details(emp_id, emp_name, emp_city, emp_sal, emp_aadhar=\"No Aadhar provided\"): # here emp_aadhar=\"No Aadhar provided\" is a default argument\n",
    "    print(\"Emp Id: \",emp_id)\n",
    "    print(\"Emp Name: \",emp_name)\n",
    "    print(\"Emp City: \",emp_city)\n",
    "    print(\"Emp Salary: \",emp_sal)   \n",
    "    print(\"Emp Aadhar: \",emp_aadhar)  "
   ]
  },
  {
   "cell_type": "code",
   "execution_count": 68,
   "id": "02e8ad02",
   "metadata": {},
   "outputs": [
    {
     "name": "stdout",
     "output_type": "stream",
     "text": [
      "Emp Id:  103\n",
      "Emp Name:  Zishan\n",
      "Emp City:  Canada\n",
      "Emp Salary:  500000\n",
      "Emp Aadhar:  No Aadhar provided\n"
     ]
    }
   ],
   "source": [
    "persoanl_details(103,\"Zishan\",\"Canada\",500000)"
   ]
  },
  {
   "cell_type": "code",
   "execution_count": 70,
   "id": "6fe69d5e",
   "metadata": {},
   "outputs": [
    {
     "name": "stdout",
     "output_type": "stream",
     "text": [
      "Emp Id:  104\n",
      "Emp Name:  Nusarat\n",
      "Emp City:  Jalgaon\n",
      "Emp Salary:  500000\n",
      "Emp Aadhar:  2345676\n"
     ]
    }
   ],
   "source": [
    "persoanl_details(104,\"Nusarat\",\"Jalgaon\",500000,2345676)"
   ]
  },
  {
   "cell_type": "code",
   "execution_count": 74,
   "id": "26b795fe",
   "metadata": {},
   "outputs": [],
   "source": [
    "def persoanl_details(emp_id=0, emp_name=\"Employee\", emp_city=\"City\", emp_sal=0, emp_aadhar=\"No aadhar given\"): #formal arguments\n",
    "    print(\"Emp Id: \",emp_id)\n",
    "    print(\"Emp Name: \",emp_name)\n",
    "    print(\"Emp City: \",emp_city)\n",
    "    print(\"Emp Salary: \",emp_sal)   \n",
    "    print(\"Emp Aadhar: \",emp_aadhar)  "
   ]
  },
  {
   "cell_type": "code",
   "execution_count": 78,
   "id": "3c609a03",
   "metadata": {},
   "outputs": [
    {
     "name": "stdout",
     "output_type": "stream",
     "text": [
      "Emp Id:  jalgaon\n",
      "Emp Name:  Employee\n",
      "Emp City:  City\n",
      "Emp Salary:  0\n",
      "Emp Aadhar:  No aadhar given\n"
     ]
    }
   ],
   "source": [
    "persoanl_details(\"jalgaon\")"
   ]
  },
  {
   "cell_type": "code",
   "execution_count": null,
   "id": "3793e1c2",
   "metadata": {},
   "outputs": [],
   "source": [
    "# 3. Variable length arguments (*args)\n",
    "# when we don't know the number of arguments "
   ]
  },
  {
   "cell_type": "code",
   "execution_count": 81,
   "id": "4a98d003",
   "metadata": {},
   "outputs": [],
   "source": [
    "def car_details(car_name, car_price, car_color, car_mil):\n",
    "    print(\"Car Name: \", car_name)\n",
    "    print(\"Car Price: \", car_price)\n",
    "    print(\"Car Color: \", car_color)\n",
    "    print(\"Car Mileage: \", car_mil)"
   ]
  },
  {
   "cell_type": "code",
   "execution_count": 82,
   "id": "c50a1656",
   "metadata": {
    "scrolled": true
   },
   "outputs": [
    {
     "name": "stdout",
     "output_type": "stream",
     "text": [
      "Car Name:  Jaguar\n",
      "Car Price:  5cr\n",
      "Car Color:  Red\n",
      "Car Mileage:  50\n"
     ]
    }
   ],
   "source": [
    "car_details(\"Jaguar\",\"5cr\",\"Red\",\"50\")"
   ]
  },
  {
   "cell_type": "code",
   "execution_count": null,
   "id": "bbf4872c",
   "metadata": {},
   "outputs": [],
   "source": [
    "# 3. Variable length arguments (*args)\n",
    "# when we don't know the number of arguments\n",
    "# the variable length arguments gets stored in tuple format\n",
    "# it generally is not used\n",
    "# it is used in cases where number of variables changed"
   ]
  },
  {
   "cell_type": "code",
   "execution_count": 21,
   "id": "1fccfe18",
   "metadata": {},
   "outputs": [],
   "source": [
    " def test(*args):\n",
    "        #print(\"In function\")\n",
    "        print(args)\n",
    "        print(type(args))\n",
    "        #print(\"In function\")"
   ]
  },
  {
   "cell_type": "code",
   "execution_count": 22,
   "id": "0ec31f1d",
   "metadata": {},
   "outputs": [
    {
     "name": "stdout",
     "output_type": "stream",
     "text": [
      "(45, 'Python', 96, 76, 46)\n",
      "<class 'tuple'>\n"
     ]
    }
   ],
   "source": [
    "test(45,\"Python\",96,76,46)"
   ]
  },
  {
   "cell_type": "code",
   "execution_count": 25,
   "id": "402d29b3",
   "metadata": {},
   "outputs": [],
   "source": [
    "def add(*args):\n",
    "    total=\"\"\n",
    "    for i in args:\n",
    "        total= total+i\n",
    "    print(total)"
   ]
  },
  {
   "cell_type": "code",
   "execution_count": 26,
   "id": "14ec552f",
   "metadata": {},
   "outputs": [
    {
     "name": "stdout",
     "output_type": "stream",
     "text": [
      "abcxyz\n"
     ]
    }
   ],
   "source": [
    "add(\"abc\",\"xyz\")"
   ]
  },
  {
   "cell_type": "code",
   "execution_count": null,
   "id": "45f026b8",
   "metadata": {},
   "outputs": [],
   "source": [
    "# 4. Keyword arguments ()\n",
    "# disadvantage of positional argument-> if there are more than 5-6 formal arguments\n",
    "# then it becomes difficult to remember their position. In this scenario keyword argument comes in handy\n",
    "# we can use keywords as variable name\n",
    "# no need to remember sequence of arguments "
   ]
  },
  {
   "cell_type": "code",
   "execution_count": 1,
   "id": "ec26dc24",
   "metadata": {},
   "outputs": [],
   "source": [
    "def car_details(car_name, car_price, car_color, car_mil):\n",
    "    print(\"Car Name: \", car_name)\n",
    "    print(\"Car Price: \", car_price)\n",
    "    print(\"Car Color: \", car_color)\n",
    "    print(\"Car Mileage: \", car_mil)"
   ]
  },
  {
   "cell_type": "code",
   "execution_count": 2,
   "id": "f6c6e2ec",
   "metadata": {},
   "outputs": [
    {
     "name": "stdout",
     "output_type": "stream",
     "text": [
      "Car Name:  audi\n",
      "Car Price:  500000\n",
      "Car Color:  black\n",
      "Car Mileage:  50\n"
     ]
    }
   ],
   "source": [
    "car_details(car_mil=50, car_color=\"black\",car_price=500000,car_name=\"audi\") \n",
    "#here car_mil, car_color, car_price, car_name are keywords"
   ]
  },
  {
   "cell_type": "code",
   "execution_count": null,
   "id": "c8bb48a8",
   "metadata": {},
   "outputs": [],
   "source": [
    "# 5. Variable length keyword arguments (**kwargs)\n",
    "# number of key value pair is varied\n",
    "# syntax\n",
    "# "
   ]
  },
  {
   "cell_type": "code",
   "execution_count": 29,
   "id": "25053860",
   "metadata": {},
   "outputs": [],
   "source": [
    "def emp_details(**kwargs):\n",
    "    print(type(kwargs))"
   ]
  },
  {
   "cell_type": "code",
   "execution_count": 30,
   "id": "b3dba9b4",
   "metadata": {},
   "outputs": [
    {
     "name": "stdout",
     "output_type": "stream",
     "text": [
      "<class 'dict'>\n"
     ]
    }
   ],
   "source": [
    "emp_details(name=\"keshav\",city=\"pune\",sal=4500000)"
   ]
  },
  {
   "cell_type": "code",
   "execution_count": 27,
   "id": "093e2c0c",
   "metadata": {},
   "outputs": [
    {
     "name": "stdout",
     "output_type": "stream",
     "text": [
      "{'name': 'jon', 'city': 'jalgaon'}\n"
     ]
    },
    {
     "data": {
      "text/plain": [
       "function"
      ]
     },
     "execution_count": 27,
     "metadata": {},
     "output_type": "execute_result"
    }
   ],
   "source": [
    "emp_details(name=\"jon\",city=\"jalgaon\")\n"
   ]
  },
  {
   "cell_type": "code",
   "execution_count": null,
   "id": "3e720e2e",
   "metadata": {},
   "outputs": [],
   "source": [
    "# *args is variable length arguments (tuple)\n",
    "# **kwargs is variable length keyword argumets (dict)"
   ]
  },
  {
   "cell_type": "code",
   "execution_count": 41,
   "id": "1de391ba",
   "metadata": {},
   "outputs": [],
   "source": [
    "def add(a,b,c,d):\n",
    "    z=a+b+c+d\n",
    "    return z"
   ]
  },
  {
   "cell_type": "code",
   "execution_count": 42,
   "id": "9f2debbd",
   "metadata": {},
   "outputs": [
    {
     "ename": "TypeError",
     "evalue": "add() missing 2 required positional arguments: 'c' and 'd'",
     "output_type": "error",
     "traceback": [
      "\u001b[1;31m---------------------------------------------------------------------------\u001b[0m",
      "\u001b[1;31mTypeError\u001b[0m                                 Traceback (most recent call last)",
      "Input \u001b[1;32mIn [42]\u001b[0m, in \u001b[0;36m<cell line: 1>\u001b[1;34m()\u001b[0m\n\u001b[1;32m----> 1\u001b[0m \u001b[43madd\u001b[49m\u001b[43m(\u001b[49m\u001b[38;5;241;43m1\u001b[39;49m\u001b[43m,\u001b[49m\u001b[38;5;241;43m2\u001b[39;49m\u001b[43m)\u001b[49m\n",
      "\u001b[1;31mTypeError\u001b[0m: add() missing 2 required positional arguments: 'c' and 'd'"
     ]
    }
   ],
   "source": [
    "add(1,2)"
   ]
  },
  {
   "cell_type": "code",
   "execution_count": null,
   "id": "627fd0de",
   "metadata": {},
   "outputs": [],
   "source": []
  }
 ],
 "metadata": {
  "kernelspec": {
   "display_name": "Python 3 (ipykernel)",
   "language": "python",
   "name": "python3"
  },
  "language_info": {
   "codemirror_mode": {
    "name": "ipython",
    "version": 3
   },
   "file_extension": ".py",
   "mimetype": "text/x-python",
   "name": "python",
   "nbconvert_exporter": "python",
   "pygments_lexer": "ipython3",
   "version": "3.9.12"
  }
 },
 "nbformat": 4,
 "nbformat_minor": 5
}
